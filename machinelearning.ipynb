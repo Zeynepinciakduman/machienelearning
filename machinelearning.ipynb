{
 "cells": [
  {
   "cell_type": "code",
   "execution_count": null,
   "metadata": {},
   "outputs": [],
   "source": [
    "pip install pandas scikit-learn ucimlrepo\n",
    "from ucimlrepo import fetch_ucirepo \n",
    "from sklearn.model_selection import train_test_split\n",
    "from sklearn.tree import DecisionTreeClassifier\n",
    "from sklearn.metrics import accuracy_score, classification_report, confusion_matrix\n",
    "\n",
    "# Veri setini yükleme kodu\n",
    "wine = fetch_ucirepo(id=109)\n",
    "\n",
    "# Özellikler ve hedef değişkeni ayırma\n",
    "X = wine.data.features\n",
    "y = wine.data.targets\n",
    "\n",
    "# Eğitim ve test setine ayırma\n",
    "X_train, X_test, y_train, y_test = train_test_split(X, y, test_size=0.2, random_state=42)\n",
    "\n",
    "# Modeli oluşturma ve eğitme\n",
    "model = DecisionTreeClassifier(random_state=42)\n",
    "model.fit(X_train, y_train)\n",
    "\n",
    "# Tahmin yapma\n",
    "predictions = model.predict(X_test)\n",
    "\n",
    "# Sonuçları değerlendirme\n",
    "accuracy = accuracy_score(y_test, predictions)\n",
    "conf_matrix = confusion_matrix(y_test, predictions)\n",
    "class_report = classification_report(y_test, predictions)\n",
    "\n",
    "# Sonuçları yazdırma\n",
    "print(f\"Doğruluk: {accuracy:.2f}\")\n",
    "print(\"Karışıklık Matrisi:\\n\", conf_matrix)\n",
    "print(\"Sınıflandırma Raporu:\\n\", class_report)\n"
   ]
  }
 ],
 "metadata": {
  "language_info": {
   "name": "python"
  }
 },
 "nbformat": 4,
 "nbformat_minor": 2
}
